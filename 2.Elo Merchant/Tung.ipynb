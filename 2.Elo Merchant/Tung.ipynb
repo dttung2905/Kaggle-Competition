{
 "cells": [
  {
   "cell_type": "code",
   "execution_count": null,
   "metadata": {},
   "outputs": [],
   "source": [
    "%%time\n",
    "#create one-hot-encoding dataframe for category_2 and category_3\n",
    "historical_transactions = pd.get_dummies(historical_transactions, columns=['category_2', 'category_3'])\n",
    "new_transactions = pd.get_dummies(new_transactions, columns=['category_2', 'category_3'])\n",
    "\n",
    "#reduce memory usage\n",
    "historical_transactions = reduce_mem_usage(historical_transactions)\n",
    "new_transactions = reduce_mem_usage(new_transactions)\n",
    "df_merchant=reduce_mem_usage(df_merchant)\n",
    "\n"
   ]
  },
  {
   "cell_type": "code",
   "execution_count": null,
   "metadata": {},
   "outputs": [],
   "source": [
    "df_merchant['abs_numerical_1'] = abs(df_merchant['numerical_1'])+1\n",
    "cols = ['merchant_id','abs_numerical_1']\n",
    "df_trick = df_merchant[cols]\n",
    "df_trick.head()\n",
    "\n",
    "\n",
    "#     historical_transactions['today_date'] = pd.to_datetime('2018-2-1')\n",
    "#     historical_transactions['day_diff'] = (historical_transactions['today_date'] - historical_transactions['purchase_date']).dt.days\n",
    "#     historical_transactions = historical_transactions(right = df_trick , how='left', on = 'merchant_id')\n",
    "#     historical_transactions['2w_purchase'] = np.where(historical_transactions['day_diff'] <= 14,historical_transactions['purchase_amount'],0)\n",
    "#     historical_transactions['1m_purchase'] = np.where(historical_transactions['day_diff'] <= 30,historical_transactions['purchase_amount'],0)\n",
    "#     historical_transactions['3m_purchase'] = np.where(historical_transactions['day_diff'] <= 90,historical_transactions['purchase_amount'],0)\n",
    "#     historical_transactions['6m_purchase'] = np.where(historical_transactions['day_diff'] <= 180,historical_transactions['purchase_amount'],0)\n",
    "#     historical_transactions['1y_purchase'] = np.where(historical_transactions['day_diff'] <= 365,historical_transactions['purchase_amount'],0)"
   ]
  },
  {
   "cell_type": "code",
   "execution_count": null,
   "metadata": {},
   "outputs": [],
   "source": [
    "historical_transactions.head()"
   ]
  },
  {
   "cell_type": "code",
   "execution_count": null,
   "metadata": {},
   "outputs": [],
   "source": [
    "\n",
    "#Amount of purchase in the last month\n",
    "# for df in [historical_transactions,new_transactions]:\n",
    "def purchase_lapse(df):\n",
    "    df['today_date'] = pd.to_datetime('2018-2-1')\n",
    "    df['day_diff'] = (df['today_date'] - df['purchase_date']).dt.days\n",
    "    df = df.merge(right = df_trick , how='left', on = 'merchant_id')\n",
    "    df['purchase_amount'] = df['purchase_amount']*df['abs_numerical_1']\n",
    "    df['2w_purchase'] = np.where(df['day_diff'] <= 14,df['purchase_amount'],0)\n",
    "    df['1m_purchase'] = np.where(df['day_diff'] <= 30,df['purchase_amount'],0)\n",
    "    df['3m_purchase'] = np.where(df['day_diff'] <= 90,df['purchase_amount'],0)\n",
    "    df['6m_purchase'] = np.where(df['day_diff'] <= 180,df['purchase_amount'],0)\n",
    "    df['1y_purchase'] = np.where(df['day_diff'] <= 365,df['purchase_amount'],0)\n",
    "    return df\n",
    "\n",
    "historical_transactions = purchase_lapse(historical_transactions)\n",
    "new_transactions = purchase_lapse(new_transactions)\n"
   ]
  },
  {
   "cell_type": "code",
   "execution_count": null,
   "metadata": {},
   "outputs": [],
   "source": [
    "agg_fun = {'authorized_flag': ['sum', 'mean']}\n",
    "\n",
    "#groupby ohe dataframe by card_id\n",
    "auth_mean = historical_transactions.groupby(['card_id']).agg(agg_fun)\n",
    "auth_mean.columns = ['_'.join(col).strip() for col in auth_mean.columns.values]\n",
    "auth_mean.reset_index(inplace=True)\n",
    "\n",
    "authorized_transactions = historical_transactions[historical_transactions['authorized_flag'] == 1]\n",
    "historical_transactions = historical_transactions[historical_transactions['authorized_flag'] == 0]\n",
    "gc.collect()"
   ]
  },
  {
   "cell_type": "code",
   "execution_count": null,
   "metadata": {},
   "outputs": [],
   "source": [
    "%%time\n",
    "#create purchase month\n",
    "historical_transactions['purchase_month'] = historical_transactions['purchase_date'].dt.month\n",
    "authorized_transactions['purchase_month'] = authorized_transactions['purchase_date'].dt.month\n",
    "new_transactions['purchase_month'] = new_transactions['purchase_date'].dt.month\n",
    "gc.collect()"
   ]
  },
  {
   "cell_type": "code",
   "execution_count": null,
   "metadata": {},
   "outputs": [],
   "source": [
    "%%time\n",
    "def aggregate_transactions(history):\n",
    "    '''\n",
    "    Parameters \n",
    "    -----------\n",
    "    history: historical transaction of dataframe\n",
    "    \n",
    "    \n",
    "    output:\n",
    "    ----------\n",
    "    dataframe groupby card_id and aggregated on multiple function\n",
    "    '''\n",
    "    \n",
    "    history.loc[:, 'purchase_date'] = pd.DatetimeIndex(history['purchase_date']).\\\n",
    "                                      astype(np.int64) * 1e-9\n",
    "    \n",
    "    \n",
    "    agg_func = {\n",
    "        'category_1': ['sum', 'mean'],\n",
    "        'category_2_1.0': ['mean'],\n",
    "        'category_2_2.0': ['mean'],\n",
    "        'category_2_3.0': ['mean'],\n",
    "        'category_2_4.0': ['mean'],\n",
    "        'category_2_5.0': ['mean'],\n",
    "        'category_3_A': ['mean'],\n",
    "        'category_3_B': ['mean'],\n",
    "        'category_3_C': ['mean'],\n",
    "        'merchant_id': ['nunique'],\n",
    "        '2w_purchase':['sum','mean','max','min','std'],\n",
    "        '1m_purchase':['sum','mean','max','min','std'],\n",
    "        '3m_purchase':['sum','mean','max','min','std'],\n",
    "        '6m_purchase':['sum','mean','max','min','std'],\n",
    "        '1y_purchase':['sum','mean','max','min','std'],\n",
    "#         'merchant_category_id': ['nunique'],\n",
    "#         'state_id': ['nunique'],\n",
    "#         'city_id': ['nunique'],\n",
    "#         'subsector_id': ['nunique'],\n",
    "        'purchase_amount': ['sum',\n",
    "                            'mean',\n",
    "                            'max',\n",
    "                            'min',\n",
    "                            'std'],\n",
    "        'installments': ['sum', 'mean', 'max', 'min', 'std'],\n",
    "        'purchase_month': ['mean', 'max', 'min', 'std'],\n",
    "        'purchase_date': [np.ptp, 'min', 'max'],\n",
    "        'month_lag': ['min', 'max','std','sum',]\n",
    "        }\n",
    "    #groupby card id \n",
    "    agg_history = history.groupby(['card_id']).agg(agg_func)\n",
    "    agg_history.columns = ['_'.join(col).strip() for col in agg_history.columns.values]\n",
    "    agg_history.reset_index(inplace=True)\n",
    "    \n",
    "    df = (history.groupby('card_id')\n",
    "          .size()\n",
    "          .reset_index(name='transactions_count'))\n",
    "    \n",
    "    #merge the two dataframe together \n",
    "    agg_history = pd.merge(df, agg_history, on='card_id', how='left')\n",
    "    \n",
    "    return agg_history\n",
    "\n",
    "gc.collect()"
   ]
  }
 ],
 "metadata": {
  "kernelspec": {
   "display_name": "Python 3",
   "language": "python",
   "name": "python3"
  },
  "language_info": {
   "codemirror_mode": {
    "name": "ipython",
    "version": 3
   },
   "file_extension": ".py",
   "mimetype": "text/x-python",
   "name": "python",
   "nbconvert_exporter": "python",
   "pygments_lexer": "ipython3",
   "version": "3.6.8"
  }
 },
 "nbformat": 4,
 "nbformat_minor": 2
}
